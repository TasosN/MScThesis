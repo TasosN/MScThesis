{
 "cells": [
  {
   "cell_type": "code",
   "execution_count": 32,
   "metadata": {},
   "outputs": [],
   "source": [
    "# import the necessary libraries\n",
    "import pandas as pd\n",
    "from collections import Counter\n",
    "from sklearn import preprocessing\n",
    "import numpy as np\n",
    "from sklearn.model_selection import train_test_split\n",
    "from sklearn.preprocessing import StandardScaler\n",
    "from sklearn.preprocessing import MinMaxScaler\n",
    "from sklearn.metrics import classification_report, confusion_matrix, confusion_matrix,plot_confusion_matrix\n",
    "from keras.utils import to_categorical\n",
    "from xgboost import XGBClassifier\n",
    "from sklearn.tree import DecisionTreeClassifier\n",
    "from sklearn.naive_bayes import GaussianNB\n",
    "from sklearn.linear_model import LogisticRegression\n",
    "from sklearn.neighbors import KNeighborsClassifier\n",
    "from sklearn.metrics import classification_report, confusion_matrix, confusion_matrix,plot_confusion_matrix\n",
    "from sklearn.svm import SVC\n",
    "from sklearn.ensemble import RandomForestClassifier\n",
    "from sklearn.model_selection import GridSearchCV\n",
    "%matplotlib inline\n",
    "import matplotlib.pyplot as plt"
   ]
  },
  {
   "cell_type": "code",
   "execution_count": 33,
   "metadata": {},
   "outputs": [],
   "source": [
    "import keras\n",
    "from keras.models import Sequential,Input,Model\n",
    "from keras.layers import Dense, Dropout, Flatten\n",
    "from keras.layers import Conv2D, MaxPooling2D\n",
    "from keras.layers.normalization import BatchNormalization\n",
    "from keras.layers.advanced_activations import LeakyReLU\n",
    "from keras.utils import to_categorical"
   ]
  },
  {
   "cell_type": "code",
   "execution_count": 229,
   "metadata": {
    "scrolled": false
   },
   "outputs": [
    {
     "name": "stdout",
     "output_type": "stream",
     "text": [
      "114404\n",
      "114351\n",
      "84307\n"
     ]
    }
   ],
   "source": [
    "# import the main big dataset\n",
    "spis = pd.read_csv('generatedDatasets/spotifyDatasetBig.csv', low_memory=False)\n",
    "print(len(spis))\n",
    "spis = spis.dropna()\n",
    "print(len(spis))\n",
    "spis = spis.drop_duplicates()\n",
    "print(len(spis))\n",
    "sam = spis.sample()\n",
    "spis = spis.drop(['trackid', 'trackname', 'artist', 'artistid', 'genres'], axis = 1)"
   ]
  },
  {
   "cell_type": "markdown",
   "metadata": {},
   "source": [
    "#### Pick between full dataset, partial merged genres, or only two/three/four genre classification"
   ]
  },
  {
   "cell_type": "markdown",
   "metadata": {},
   "source": [
    "###### If none of the two code blocks below is executed, then full dataset classification will take place"
   ]
  },
  {
   "cell_type": "code",
   "execution_count": 193,
   "metadata": {},
   "outputs": [],
   "source": [
    "# Partial Merged Genres\n",
    "spis['main_genre'] = spis['main_genre'].replace(['r&b', 'soul'], 'r&b / soul')\n",
    "spis['main_genre'] = spis['main_genre'].replace(['hip-hop', 'rap'], 'hip-hop / rap')\n",
    "spis['main_genre'] = spis['main_genre'].replace(['indie', 'alternative'], 'indie / alternative')\n",
    "spis['main_genre'] = spis['main_genre'].replace(['punk', 'metal'], 'punk / metal')\n",
    "spis['main_genre'] = spis['main_genre'].replace(['folk', 'country'], 'folk / country')\n",
    "spis['main_genre'] = spis['main_genre'].replace(['blues', 'jazz'], 'blues / jazz')\n",
    "spis['main_genre'] = spis['main_genre'].replace(['latin', 'dance'], 'latin / dance')"
   ]
  },
  {
   "cell_type": "code",
   "execution_count": 194,
   "metadata": {},
   "outputs": [],
   "source": [
    "# Four / Three / Two Genre Classification\n",
    "# ONLY ONE OF THE THREE FOLLOWING CODE LINES MUST BE EXECUTED\n",
    "#spis = spis.loc[spis.main_genre.isin(['rap', 'classical'])]\n",
    "#spis = spis.loc[spis.main_genre.isin(['indie', 'punk', 'latin'])]\n",
    "#spis = spis.loc[spis.main_genre.isin(['rock', 'classical', 'jazz', 'metal'])]"
   ]
  },
  {
   "cell_type": "code",
   "execution_count": 230,
   "metadata": {},
   "outputs": [
    {
     "data": {
      "text/html": [
       "<div>\n",
       "<style scoped>\n",
       "    .dataframe tbody tr th:only-of-type {\n",
       "        vertical-align: middle;\n",
       "    }\n",
       "\n",
       "    .dataframe tbody tr th {\n",
       "        vertical-align: top;\n",
       "    }\n",
       "\n",
       "    .dataframe thead th {\n",
       "        text-align: right;\n",
       "    }\n",
       "</style>\n",
       "<table border=\"1\" class=\"dataframe\">\n",
       "  <thead>\n",
       "    <tr style=\"text-align: right;\">\n",
       "      <th></th>\n",
       "      <th>main_genre</th>\n",
       "      <th>danceability</th>\n",
       "      <th>energy</th>\n",
       "      <th>loudness</th>\n",
       "      <th>speechness</th>\n",
       "      <th>acousticness</th>\n",
       "      <th>instrumentalness</th>\n",
       "      <th>liveness</th>\n",
       "      <th>valence</th>\n",
       "      <th>tempo</th>\n",
       "    </tr>\n",
       "  </thead>\n",
       "  <tbody>\n",
       "    <tr>\n",
       "      <th>0</th>\n",
       "      <td>rock</td>\n",
       "      <td>0.412</td>\n",
       "      <td>0.902</td>\n",
       "      <td>-11.600</td>\n",
       "      <td>0.4050</td>\n",
       "      <td>0.04840</td>\n",
       "      <td>0.131000</td>\n",
       "      <td>0.4050</td>\n",
       "      <td>0.422</td>\n",
       "      <td>89.740</td>\n",
       "    </tr>\n",
       "    <tr>\n",
       "      <th>1</th>\n",
       "      <td>rock</td>\n",
       "      <td>0.438</td>\n",
       "      <td>0.805</td>\n",
       "      <td>-6.237</td>\n",
       "      <td>0.0624</td>\n",
       "      <td>0.00255</td>\n",
       "      <td>0.000057</td>\n",
       "      <td>0.0842</td>\n",
       "      <td>0.564</td>\n",
       "      <td>113.253</td>\n",
       "    </tr>\n",
       "    <tr>\n",
       "      <th>2</th>\n",
       "      <td>rock</td>\n",
       "      <td>0.310</td>\n",
       "      <td>0.700</td>\n",
       "      <td>-5.678</td>\n",
       "      <td>0.0470</td>\n",
       "      <td>0.01100</td>\n",
       "      <td>0.009650</td>\n",
       "      <td>0.0828</td>\n",
       "      <td>0.763</td>\n",
       "      <td>188.386</td>\n",
       "    </tr>\n",
       "    <tr>\n",
       "      <th>3</th>\n",
       "      <td>rock</td>\n",
       "      <td>0.505</td>\n",
       "      <td>0.836</td>\n",
       "      <td>-7.384</td>\n",
       "      <td>0.1010</td>\n",
       "      <td>0.01030</td>\n",
       "      <td>0.077100</td>\n",
       "      <td>0.2950</td>\n",
       "      <td>0.764</td>\n",
       "      <td>159.669</td>\n",
       "    </tr>\n",
       "    <tr>\n",
       "      <th>4</th>\n",
       "      <td>rock</td>\n",
       "      <td>0.676</td>\n",
       "      <td>0.920</td>\n",
       "      <td>-7.960</td>\n",
       "      <td>0.0435</td>\n",
       "      <td>0.00101</td>\n",
       "      <td>0.000009</td>\n",
       "      <td>0.2480</td>\n",
       "      <td>0.624</td>\n",
       "      <td>126.341</td>\n",
       "    </tr>\n",
       "  </tbody>\n",
       "</table>\n",
       "</div>"
      ],
      "text/plain": [
       "  main_genre  danceability  energy  loudness  speechness  acousticness  \\\n",
       "0       rock         0.412   0.902   -11.600      0.4050       0.04840   \n",
       "1       rock         0.438   0.805    -6.237      0.0624       0.00255   \n",
       "2       rock         0.310   0.700    -5.678      0.0470       0.01100   \n",
       "3       rock         0.505   0.836    -7.384      0.1010       0.01030   \n",
       "4       rock         0.676   0.920    -7.960      0.0435       0.00101   \n",
       "\n",
       "   instrumentalness  liveness  valence    tempo  \n",
       "0          0.131000    0.4050    0.422   89.740  \n",
       "1          0.000057    0.0842    0.564  113.253  \n",
       "2          0.009650    0.0828    0.763  188.386  \n",
       "3          0.077100    0.2950    0.764  159.669  \n",
       "4          0.000009    0.2480    0.624  126.341  "
      ]
     },
     "execution_count": 230,
     "metadata": {},
     "output_type": "execute_result"
    }
   ],
   "source": [
    "spis.head()"
   ]
  },
  {
   "cell_type": "markdown",
   "metadata": {},
   "source": [
    "#### Prepare & Process The Dataset For Machine Learning"
   ]
  },
  {
   "cell_type": "code",
   "execution_count": 231,
   "metadata": {},
   "outputs": [
    {
     "name": "stdout",
     "output_type": "stream",
     "text": [
      "{'alternative': 0, 'blues': 1, 'classical': 2, 'country': 3, 'dance': 4, 'electronic': 5, 'folk': 6, 'hip-hop': 7, 'indie': 8, 'jazz': 9, 'latin': 10, 'metal': 11, 'pop': 12, 'punk': 13, 'r&b': 14, 'rap': 15, 'reggae': 16, 'rock': 17, 'soul': 18}\n"
     ]
    }
   ],
   "source": [
    "label_encoder = preprocessing.LabelEncoder()\n",
    "label_encoder.fit(spis['main_genre'])\n",
    "lb = label_encoder.transform(spis['main_genre'])\n",
    "mapping = dict(zip(label_encoder.classes_, range(len(label_encoder.classes_))))\n",
    "print(mapping)\n",
    "spis = spis.drop(['main_genre'], axis=1)"
   ]
  },
  {
   "cell_type": "code",
   "execution_count": 232,
   "metadata": {},
   "outputs": [
    {
     "name": "stdout",
     "output_type": "stream",
     "text": [
      "Counter({8: 5419, 18: 5040, 9: 5025, 11: 4973, 6: 4932, 13: 4821, 5: 4781, 12: 4714, 0: 4646, 2: 4491, 4: 4404, 7: 4396, 1: 4309, 3: 4039, 15: 3844, 17: 3778, 10: 3669, 16: 3587, 14: 3439})\n",
      "84307\n"
     ]
    }
   ],
   "source": [
    "print(Counter(lb))\n",
    "print(len(lb))"
   ]
  },
  {
   "cell_type": "code",
   "execution_count": 233,
   "metadata": {},
   "outputs": [],
   "source": [
    "#X = spis.values\n",
    "#X = MinMaxScaler().fit_transform(spis)\n",
    "scaler = StandardScaler()\n",
    "X = scaler.fit_transform(spis)"
   ]
  },
  {
   "cell_type": "code",
   "execution_count": 234,
   "metadata": {},
   "outputs": [],
   "source": [
    "X_train, X_test, y_train, y_test = train_test_split(X, lb, test_size=0.2, random_state=0)"
   ]
  },
  {
   "cell_type": "markdown",
   "metadata": {},
   "source": [
    "##### Naive Bayes"
   ]
  },
  {
   "cell_type": "code",
   "execution_count": 235,
   "metadata": {
    "scrolled": true
   },
   "outputs": [
    {
     "name": "stdout",
     "output_type": "stream",
     "text": [
      "              precision    recall  f1-score   support\n",
      "\n",
      "           0       0.06      0.01      0.01       930\n",
      "           1       0.17      0.03      0.05       786\n",
      "           2       0.52      0.86      0.65       851\n",
      "           3       0.11      0.73      0.18       771\n",
      "           4       0.24      0.37      0.29       895\n",
      "           5       0.35      0.30      0.32       941\n",
      "           6       0.23      0.25      0.24       977\n",
      "           7       0.18      0.03      0.05       863\n",
      "           8       0.14      0.03      0.05      1103\n",
      "           9       0.29      0.24      0.26      1043\n",
      "          10       0.09      0.01      0.02       714\n",
      "          11       0.40      0.63      0.49      1010\n",
      "          12       0.00      0.00      0.00       977\n",
      "          13       0.23      0.17      0.19       957\n",
      "          14       0.18      0.10      0.13       718\n",
      "          15       0.26      0.42      0.32       764\n",
      "          16       0.23      0.33      0.27       755\n",
      "          17       0.11      0.01      0.02       751\n",
      "          18       0.12      0.02      0.04      1056\n",
      "\n",
      "    accuracy                           0.24     16862\n",
      "   macro avg       0.21      0.24      0.19     16862\n",
      "weighted avg       0.21      0.24      0.19     16862\n",
      "\n"
     ]
    }
   ],
   "source": [
    "gnb = GaussianNB()\n",
    "y_pred = gnb.fit(X_train, y_train).predict(X_test)\n",
    "print(classification_report(y_test, y_pred))"
   ]
  },
  {
   "cell_type": "markdown",
   "metadata": {},
   "source": [
    "##### Logistic Regression"
   ]
  },
  {
   "cell_type": "code",
   "execution_count": 236,
   "metadata": {
    "scrolled": true
   },
   "outputs": [
    {
     "name": "stdout",
     "output_type": "stream",
     "text": [
      "              precision    recall  f1-score   support\n",
      "\n",
      "           0       0.15      0.12      0.13       930\n",
      "           1       0.19      0.12      0.14       786\n",
      "           2       0.67      0.78      0.72       851\n",
      "           3       0.18      0.32      0.23       771\n",
      "           4       0.25      0.39      0.30       895\n",
      "           5       0.36      0.40      0.38       941\n",
      "           6       0.23      0.37      0.29       977\n",
      "           7       0.24      0.19      0.21       863\n",
      "           8       0.14      0.10      0.11      1103\n",
      "           9       0.39      0.35      0.37      1043\n",
      "          10       0.11      0.06      0.08       714\n",
      "          11       0.43      0.65      0.52      1010\n",
      "          12       0.18      0.06      0.09       977\n",
      "          13       0.25      0.35      0.29       957\n",
      "          14       0.20      0.07      0.11       718\n",
      "          15       0.28      0.35      0.31       764\n",
      "          16       0.21      0.30      0.25       755\n",
      "          17       0.17      0.06      0.09       751\n",
      "          18       0.16      0.11      0.13      1056\n",
      "\n",
      "    accuracy                           0.27     16862\n",
      "   macro avg       0.25      0.27      0.25     16862\n",
      "weighted avg       0.26      0.27      0.25     16862\n",
      "\n"
     ]
    }
   ],
   "source": [
    "clf = LogisticRegression(random_state=0,solver=\"newton-cg\",n_jobs=-1).fit(X_train, y_train)\n",
    "y_pred = clf.predict(X_test)\n",
    "print(classification_report(y_test, y_pred))"
   ]
  },
  {
   "cell_type": "markdown",
   "metadata": {},
   "source": [
    "##### k Nearest Neighbors"
   ]
  },
  {
   "cell_type": "code",
   "execution_count": 237,
   "metadata": {
    "scrolled": true
   },
   "outputs": [
    {
     "name": "stdout",
     "output_type": "stream",
     "text": [
      "              precision    recall  f1-score   support\n",
      "\n",
      "           0       0.09      0.20      0.12       930\n",
      "           1       0.14      0.26      0.18       786\n",
      "           2       0.63      0.81      0.71       851\n",
      "           3       0.20      0.35      0.25       771\n",
      "           4       0.23      0.36      0.28       895\n",
      "           5       0.32      0.32      0.32       941\n",
      "           6       0.19      0.20      0.20       977\n",
      "           7       0.22      0.28      0.24       863\n",
      "           8       0.11      0.08      0.09      1103\n",
      "           9       0.40      0.31      0.35      1043\n",
      "          10       0.13      0.10      0.11       714\n",
      "          11       0.53      0.53      0.53      1010\n",
      "          12       0.14      0.06      0.08       977\n",
      "          13       0.33      0.24      0.28       957\n",
      "          14       0.13      0.06      0.08       718\n",
      "          15       0.23      0.17      0.19       764\n",
      "          16       0.31      0.19      0.24       755\n",
      "          17       0.13      0.05      0.08       751\n",
      "          18       0.16      0.07      0.10      1056\n",
      "\n",
      "    accuracy                           0.25     16862\n",
      "   macro avg       0.24      0.24      0.23     16862\n",
      "weighted avg       0.25      0.25      0.24     16862\n",
      "\n"
     ]
    }
   ],
   "source": [
    "neigh = KNeighborsClassifier(n_neighbors=4,n_jobs=-1,algorithm=\"auto\",leaf_size=30,p=1)\n",
    "neigh.fit(X_train, y_train)\n",
    "y_pred = neigh.predict(X_test)\n",
    "print(classification_report(y_test, y_pred))"
   ]
  },
  {
   "cell_type": "markdown",
   "metadata": {},
   "source": [
    "##### Random Forest"
   ]
  },
  {
   "cell_type": "code",
   "execution_count": 238,
   "metadata": {
    "scrolled": true
   },
   "outputs": [
    {
     "name": "stdout",
     "output_type": "stream",
     "text": [
      "              precision    recall  f1-score   support\n",
      "\n",
      "           0       0.12      0.09      0.10       930\n",
      "           1       0.26      0.26      0.26       786\n",
      "           2       0.71      0.82      0.76       851\n",
      "           3       0.37      0.50      0.43       771\n",
      "           4       0.29      0.31      0.30       895\n",
      "           5       0.38      0.40      0.39       941\n",
      "           6       0.26      0.30      0.27       977\n",
      "           7       0.23      0.25      0.24       863\n",
      "           8       0.19      0.18      0.18      1103\n",
      "           9       0.42      0.45      0.43      1043\n",
      "          10       0.15      0.10      0.12       714\n",
      "          11       0.57      0.65      0.61      1010\n",
      "          12       0.13      0.10      0.11       977\n",
      "          13       0.36      0.36      0.36       957\n",
      "          14       0.18      0.14      0.16       718\n",
      "          15       0.23      0.30      0.26       764\n",
      "          16       0.34      0.37      0.35       755\n",
      "          17       0.12      0.09      0.10       751\n",
      "          18       0.21      0.19      0.20      1056\n",
      "\n",
      "    accuracy                           0.31     16862\n",
      "   macro avg       0.29      0.31      0.30     16862\n",
      "weighted avg       0.29      0.31      0.30     16862\n",
      "\n"
     ]
    }
   ],
   "source": [
    "hyperpars_rf = dict(n_estimators=[100,120,140,160,180],criterion=['gini', 'entropy'], max_depth=[15,30,40,50])\n",
    "rf = RandomForestClassifier()\n",
    "clf = GridSearchCV(rf, hyperpars_rf, cv=5, verbose=0)\n",
    "clf.estimator.fit(X_train, y_train)\n",
    "y_pred = clf.estimator.predict(X_test)\n",
    "print(classification_report(y_test, y_pred))"
   ]
  },
  {
   "cell_type": "markdown",
   "metadata": {},
   "source": [
    "##### Decision Tree"
   ]
  },
  {
   "cell_type": "code",
   "execution_count": 239,
   "metadata": {
    "scrolled": true
   },
   "outputs": [
    {
     "name": "stdout",
     "output_type": "stream",
     "text": [
      "Decision Tree: \n",
      "               precision    recall  f1-score   support\n",
      "\n",
      "           0       0.08      0.10      0.09      1164\n",
      "           1       0.16      0.18      0.17      1058\n",
      "           2       0.67      0.66      0.67      1124\n",
      "           3       0.28      0.27      0.28      1026\n",
      "           4       0.18      0.21      0.20      1102\n",
      "           5       0.26      0.24      0.25      1155\n",
      "           6       0.17      0.17      0.17      1277\n",
      "           7       0.15      0.18      0.16      1097\n",
      "           8       0.11      0.11      0.11      1319\n",
      "           9       0.31      0.31      0.31      1263\n",
      "          10       0.11      0.12      0.11       899\n",
      "          11       0.50      0.48      0.49      1239\n",
      "          12       0.08      0.08      0.08      1165\n",
      "          13       0.25      0.23      0.24      1201\n",
      "          14       0.11      0.11      0.11       872\n",
      "          15       0.18      0.16      0.17       991\n",
      "          16       0.23      0.19      0.20       902\n",
      "          17       0.09      0.08      0.09       953\n",
      "          18       0.16      0.13      0.14      1270\n",
      "\n",
      "    accuracy                           0.22     21077\n",
      "   macro avg       0.22      0.21      0.21     21077\n",
      "weighted avg       0.22      0.22      0.22     21077\n",
      "\n"
     ]
    }
   ],
   "source": [
    "# Import train_test_split function and Decision tree classifier\n",
    "from sklearn.model_selection import train_test_split\n",
    "from sklearn.tree import DecisionTreeClassifier\n",
    "# Create the classification report for both models\n",
    "from sklearn.metrics import classification_report\n",
    "\n",
    "# Split our data\n",
    "train_features, test_features, train_labels, test_labels = train_test_split(X, lb, random_state=10)\n",
    "\n",
    "# Train our decision tree\n",
    "tree = DecisionTreeClassifier(random_state=10)\n",
    "tree.fit(train_features, train_labels)\n",
    "\n",
    "# Predict the labels for the test data\n",
    "pred_labels_tree = tree.predict(test_features)\n",
    "class_rep_tree = classification_report(test_labels, pred_labels_tree)\n",
    "print(\"Decision Tree: \\n\", class_rep_tree)"
   ]
  },
  {
   "cell_type": "markdown",
   "metadata": {},
   "source": [
    "##### XGBoost"
   ]
  },
  {
   "cell_type": "code",
   "execution_count": 240,
   "metadata": {
    "scrolled": true
   },
   "outputs": [
    {
     "name": "stderr",
     "output_type": "stream",
     "text": [
      "/home/tasossf/.local/lib/python3.8/site-packages/xgboost/sklearn.py:888: UserWarning: The use of label encoder in XGBClassifier is deprecated and will be removed in a future release. To remove this warning, do the following: 1) Pass option use_label_encoder=False when constructing XGBClassifier object; and 2) Encode your labels (y) as integers starting with 0, i.e. 0, 1, 2, ..., [num_class - 1].\n",
      "  warnings.warn(label_encoder_deprecation_msg, UserWarning)\n"
     ]
    },
    {
     "name": "stdout",
     "output_type": "stream",
     "text": [
      "[21:36:09] WARNING: ../src/learner.cc:1061: Starting in XGBoost 1.3.0, the default evaluation metric used with the objective 'multi:softprob' was changed from 'merror' to 'mlogloss'. Explicitly set eval_metric if you'd like to restore the old behavior.\n",
      "              precision    recall  f1-score   support\n",
      "\n",
      "           0       0.16      0.10      0.12       930\n",
      "           1       0.25      0.25      0.25       786\n",
      "           2       0.72      0.80      0.76       851\n",
      "           3       0.30      0.46      0.37       771\n",
      "           4       0.29      0.36      0.32       895\n",
      "           5       0.42      0.42      0.42       941\n",
      "           6       0.26      0.30      0.28       977\n",
      "           7       0.25      0.29      0.27       863\n",
      "           8       0.18      0.17      0.17      1103\n",
      "           9       0.43      0.45      0.44      1043\n",
      "          10       0.15      0.09      0.12       714\n",
      "          11       0.56      0.63      0.59      1010\n",
      "          12       0.16      0.12      0.14       977\n",
      "          13       0.35      0.37      0.36       957\n",
      "          14       0.17      0.13      0.14       718\n",
      "          15       0.26      0.33      0.29       764\n",
      "          16       0.32      0.36      0.34       755\n",
      "          17       0.16      0.10      0.12       751\n",
      "          18       0.22      0.19      0.20      1056\n",
      "\n",
      "    accuracy                           0.32     16862\n",
      "   macro avg       0.30      0.31      0.30     16862\n",
      "weighted avg       0.30      0.32      0.30     16862\n",
      "\n"
     ]
    }
   ],
   "source": [
    "# fit model no training data\n",
    "model = XGBClassifier()\n",
    "model.fit(X_train, y_train)\n",
    "\n",
    "# make predictions for test data\n",
    "y_pred = model.predict(X_test)\n",
    "predictions = [round(value) for value in y_pred]\n",
    "\n",
    "print(classification_report(y_test, y_pred))"
   ]
  },
  {
   "cell_type": "markdown",
   "metadata": {},
   "source": [
    "##### Correlation and XGB Importance Plots"
   ]
  },
  {
   "cell_type": "code",
   "execution_count": 241,
   "metadata": {},
   "outputs": [
    {
     "data": {
      "text/html": [
       "<style  type=\"text/css\" >\n",
       "    #T_4778d056_8821_11eb_b9d7_98fa9b37604crow0_col0 {\n",
       "            background-color:  #023858;\n",
       "            color:  #f1f1f1;\n",
       "        }    #T_4778d056_8821_11eb_b9d7_98fa9b37604crow0_col1 {\n",
       "            background-color:  #6ba5cd;\n",
       "            color:  #000000;\n",
       "        }    #T_4778d056_8821_11eb_b9d7_98fa9b37604crow0_col2 {\n",
       "            background-color:  #509ac6;\n",
       "            color:  #000000;\n",
       "        }    #T_4778d056_8821_11eb_b9d7_98fa9b37604crow0_col3 {\n",
       "            background-color:  #b1c2de;\n",
       "            color:  #000000;\n",
       "        }    #T_4778d056_8821_11eb_b9d7_98fa9b37604crow0_col4 {\n",
       "            background-color:  #bcc7e1;\n",
       "            color:  #000000;\n",
       "        }    #T_4778d056_8821_11eb_b9d7_98fa9b37604crow0_col5 {\n",
       "            background-color:  #d9d8ea;\n",
       "            color:  #000000;\n",
       "        }    #T_4778d056_8821_11eb_b9d7_98fa9b37604crow0_col6 {\n",
       "            background-color:  #f8f1f8;\n",
       "            color:  #000000;\n",
       "        }    #T_4778d056_8821_11eb_b9d7_98fa9b37604crow0_col7 {\n",
       "            background-color:  #4697c4;\n",
       "            color:  #000000;\n",
       "        }    #T_4778d056_8821_11eb_b9d7_98fa9b37604crow0_col8 {\n",
       "            background-color:  #f3edf5;\n",
       "            color:  #000000;\n",
       "        }    #T_4778d056_8821_11eb_b9d7_98fa9b37604crow1_col0 {\n",
       "            background-color:  #bbc7e0;\n",
       "            color:  #000000;\n",
       "        }    #T_4778d056_8821_11eb_b9d7_98fa9b37604crow1_col1 {\n",
       "            background-color:  #023858;\n",
       "            color:  #f1f1f1;\n",
       "        }    #T_4778d056_8821_11eb_b9d7_98fa9b37604crow1_col2 {\n",
       "            background-color:  #045687;\n",
       "            color:  #f1f1f1;\n",
       "        }    #T_4778d056_8821_11eb_b9d7_98fa9b37604crow1_col3 {\n",
       "            background-color:  #ced0e6;\n",
       "            color:  #000000;\n",
       "        }    #T_4778d056_8821_11eb_b9d7_98fa9b37604crow1_col4 {\n",
       "            background-color:  #fff7fb;\n",
       "            color:  #000000;\n",
       "        }    #T_4778d056_8821_11eb_b9d7_98fa9b37604crow1_col5 {\n",
       "            background-color:  #eee9f3;\n",
       "            color:  #000000;\n",
       "        }    #T_4778d056_8821_11eb_b9d7_98fa9b37604crow1_col6 {\n",
       "            background-color:  #c1cae2;\n",
       "            color:  #000000;\n",
       "        }    #T_4778d056_8821_11eb_b9d7_98fa9b37604crow1_col7 {\n",
       "            background-color:  #6ba5cd;\n",
       "            color:  #000000;\n",
       "        }    #T_4778d056_8821_11eb_b9d7_98fa9b37604crow1_col8 {\n",
       "            background-color:  #b0c2de;\n",
       "            color:  #000000;\n",
       "        }    #T_4778d056_8821_11eb_b9d7_98fa9b37604crow2_col0 {\n",
       "            background-color:  #93b5d6;\n",
       "            color:  #000000;\n",
       "        }    #T_4778d056_8821_11eb_b9d7_98fa9b37604crow2_col1 {\n",
       "            background-color:  #045585;\n",
       "            color:  #f1f1f1;\n",
       "        }    #T_4778d056_8821_11eb_b9d7_98fa9b37604crow2_col2 {\n",
       "            background-color:  #023858;\n",
       "            color:  #f1f1f1;\n",
       "        }    #T_4778d056_8821_11eb_b9d7_98fa9b37604crow2_col3 {\n",
       "            background-color:  #cacee5;\n",
       "            color:  #000000;\n",
       "        }    #T_4778d056_8821_11eb_b9d7_98fa9b37604crow2_col4 {\n",
       "            background-color:  #f7f0f7;\n",
       "            color:  #000000;\n",
       "        }    #T_4778d056_8821_11eb_b9d7_98fa9b37604crow2_col5 {\n",
       "            background-color:  #fff7fb;\n",
       "            color:  #000000;\n",
       "        }    #T_4778d056_8821_11eb_b9d7_98fa9b37604crow2_col6 {\n",
       "            background-color:  #d2d2e7;\n",
       "            color:  #000000;\n",
       "        }    #T_4778d056_8821_11eb_b9d7_98fa9b37604crow2_col7 {\n",
       "            background-color:  #75a9cf;\n",
       "            color:  #000000;\n",
       "        }    #T_4778d056_8821_11eb_b9d7_98fa9b37604crow2_col8 {\n",
       "            background-color:  #bbc7e0;\n",
       "            color:  #000000;\n",
       "        }    #T_4778d056_8821_11eb_b9d7_98fa9b37604crow3_col0 {\n",
       "            background-color:  #a4bcda;\n",
       "            color:  #000000;\n",
       "        }    #T_4778d056_8821_11eb_b9d7_98fa9b37604crow3_col1 {\n",
       "            background-color:  #6fa7ce;\n",
       "            color:  #000000;\n",
       "        }    #T_4778d056_8821_11eb_b9d7_98fa9b37604crow3_col2 {\n",
       "            background-color:  #79abd0;\n",
       "            color:  #000000;\n",
       "        }    #T_4778d056_8821_11eb_b9d7_98fa9b37604crow3_col3 {\n",
       "            background-color:  #023858;\n",
       "            color:  #f1f1f1;\n",
       "        }    #T_4778d056_8821_11eb_b9d7_98fa9b37604crow3_col4 {\n",
       "            background-color:  #a9bfdc;\n",
       "            color:  #000000;\n",
       "        }    #T_4778d056_8821_11eb_b9d7_98fa9b37604crow3_col5 {\n",
       "            background-color:  #ced0e6;\n",
       "            color:  #000000;\n",
       "        }    #T_4778d056_8821_11eb_b9d7_98fa9b37604crow3_col6 {\n",
       "            background-color:  #dfddec;\n",
       "            color:  #000000;\n",
       "        }    #T_4778d056_8821_11eb_b9d7_98fa9b37604crow3_col7 {\n",
       "            background-color:  #bdc8e1;\n",
       "            color:  #000000;\n",
       "        }    #T_4778d056_8821_11eb_b9d7_98fa9b37604crow3_col8 {\n",
       "            background-color:  #d9d8ea;\n",
       "            color:  #000000;\n",
       "        }    #T_4778d056_8821_11eb_b9d7_98fa9b37604crow4_col0 {\n",
       "            background-color:  #fdf5fa;\n",
       "            color:  #000000;\n",
       "        }    #T_4778d056_8821_11eb_b9d7_98fa9b37604crow4_col1 {\n",
       "            background-color:  #fff7fb;\n",
       "            color:  #000000;\n",
       "        }    #T_4778d056_8821_11eb_b9d7_98fa9b37604crow4_col2 {\n",
       "            background-color:  #fff7fb;\n",
       "            color:  #000000;\n",
       "        }    #T_4778d056_8821_11eb_b9d7_98fa9b37604crow4_col3 {\n",
       "            background-color:  #f9f2f8;\n",
       "            color:  #000000;\n",
       "        }    #T_4778d056_8821_11eb_b9d7_98fa9b37604crow4_col4 {\n",
       "            background-color:  #023858;\n",
       "            color:  #f1f1f1;\n",
       "        }    #T_4778d056_8821_11eb_b9d7_98fa9b37604crow4_col5 {\n",
       "            background-color:  #4094c3;\n",
       "            color:  #000000;\n",
       "        }    #T_4778d056_8821_11eb_b9d7_98fa9b37604crow4_col6 {\n",
       "            background-color:  #fff7fb;\n",
       "            color:  #000000;\n",
       "        }    #T_4778d056_8821_11eb_b9d7_98fa9b37604crow4_col7 {\n",
       "            background-color:  #fbf4f9;\n",
       "            color:  #000000;\n",
       "        }    #T_4778d056_8821_11eb_b9d7_98fa9b37604crow4_col8 {\n",
       "            background-color:  #fff7fb;\n",
       "            color:  #000000;\n",
       "        }    #T_4778d056_8821_11eb_b9d7_98fa9b37604crow5_col0 {\n",
       "            background-color:  #fff7fb;\n",
       "            color:  #000000;\n",
       "        }    #T_4778d056_8821_11eb_b9d7_98fa9b37604crow5_col1 {\n",
       "            background-color:  #d9d8ea;\n",
       "            color:  #000000;\n",
       "        }    #T_4778d056_8821_11eb_b9d7_98fa9b37604crow5_col2 {\n",
       "            background-color:  #f7f0f7;\n",
       "            color:  #000000;\n",
       "        }    #T_4778d056_8821_11eb_b9d7_98fa9b37604crow5_col3 {\n",
       "            background-color:  #fff7fb;\n",
       "            color:  #000000;\n",
       "        }    #T_4778d056_8821_11eb_b9d7_98fa9b37604crow5_col4 {\n",
       "            background-color:  #2c89bd;\n",
       "            color:  #000000;\n",
       "        }    #T_4778d056_8821_11eb_b9d7_98fa9b37604crow5_col5 {\n",
       "            background-color:  #023858;\n",
       "            color:  #f1f1f1;\n",
       "        }    #T_4778d056_8821_11eb_b9d7_98fa9b37604crow5_col6 {\n",
       "            background-color:  #fbf4f9;\n",
       "            color:  #000000;\n",
       "        }    #T_4778d056_8821_11eb_b9d7_98fa9b37604crow5_col7 {\n",
       "            background-color:  #fff7fb;\n",
       "            color:  #000000;\n",
       "        }    #T_4778d056_8821_11eb_b9d7_98fa9b37604crow5_col8 {\n",
       "            background-color:  #f4edf6;\n",
       "            color:  #000000;\n",
       "        }    #T_4778d056_8821_11eb_b9d7_98fa9b37604crow6_col0 {\n",
       "            background-color:  #eae6f1;\n",
       "            color:  #000000;\n",
       "        }    #T_4778d056_8821_11eb_b9d7_98fa9b37604crow6_col1 {\n",
       "            background-color:  #5a9ec9;\n",
       "            color:  #000000;\n",
       "        }    #T_4778d056_8821_11eb_b9d7_98fa9b37604crow6_col2 {\n",
       "            background-color:  #78abd0;\n",
       "            color:  #000000;\n",
       "        }    #T_4778d056_8821_11eb_b9d7_98fa9b37604crow6_col3 {\n",
       "            background-color:  #d8d7e9;\n",
       "            color:  #000000;\n",
       "        }    #T_4778d056_8821_11eb_b9d7_98fa9b37604crow6_col4 {\n",
       "            background-color:  #a9bfdc;\n",
       "            color:  #000000;\n",
       "        }    #T_4778d056_8821_11eb_b9d7_98fa9b37604crow6_col5 {\n",
       "            background-color:  #bfc9e1;\n",
       "            color:  #000000;\n",
       "        }    #T_4778d056_8821_11eb_b9d7_98fa9b37604crow6_col6 {\n",
       "            background-color:  #023858;\n",
       "            color:  #f1f1f1;\n",
       "        }    #T_4778d056_8821_11eb_b9d7_98fa9b37604crow6_col7 {\n",
       "            background-color:  #c9cee4;\n",
       "            color:  #000000;\n",
       "        }    #T_4778d056_8821_11eb_b9d7_98fa9b37604crow6_col8 {\n",
       "            background-color:  #dddbec;\n",
       "            color:  #000000;\n",
       "        }    #T_4778d056_8821_11eb_b9d7_98fa9b37604crow7_col0 {\n",
       "            background-color:  #509ac6;\n",
       "            color:  #000000;\n",
       "        }    #T_4778d056_8821_11eb_b9d7_98fa9b37604crow7_col1 {\n",
       "            background-color:  #2f8bbe;\n",
       "            color:  #000000;\n",
       "        }    #T_4778d056_8821_11eb_b9d7_98fa9b37604crow7_col2 {\n",
       "            background-color:  #3f93c2;\n",
       "            color:  #000000;\n",
       "        }    #T_4778d056_8821_11eb_b9d7_98fa9b37604crow7_col3 {\n",
       "            background-color:  #d5d5e8;\n",
       "            color:  #000000;\n",
       "        }    #T_4778d056_8821_11eb_b9d7_98fa9b37604crow7_col4 {\n",
       "            background-color:  #c5cce3;\n",
       "            color:  #000000;\n",
       "        }    #T_4778d056_8821_11eb_b9d7_98fa9b37604crow7_col5 {\n",
       "            background-color:  #e2dfee;\n",
       "            color:  #000000;\n",
       "        }    #T_4778d056_8821_11eb_b9d7_98fa9b37604crow7_col6 {\n",
       "            background-color:  #e5e1ef;\n",
       "            color:  #000000;\n",
       "        }    #T_4778d056_8821_11eb_b9d7_98fa9b37604crow7_col7 {\n",
       "            background-color:  #023858;\n",
       "            color:  #f1f1f1;\n",
       "        }    #T_4778d056_8821_11eb_b9d7_98fa9b37604crow7_col8 {\n",
       "            background-color:  #d4d4e8;\n",
       "            color:  #000000;\n",
       "        }    #T_4778d056_8821_11eb_b9d7_98fa9b37604crow8_col0 {\n",
       "            background-color:  #ede8f3;\n",
       "            color:  #000000;\n",
       "        }    #T_4778d056_8821_11eb_b9d7_98fa9b37604crow8_col1 {\n",
       "            background-color:  #569dc8;\n",
       "            color:  #000000;\n",
       "        }    #T_4778d056_8821_11eb_b9d7_98fa9b37604crow8_col2 {\n",
       "            background-color:  #6da6cd;\n",
       "            color:  #000000;\n",
       "        }    #T_4778d056_8821_11eb_b9d7_98fa9b37604crow8_col3 {\n",
       "            background-color:  #dcdaeb;\n",
       "            color:  #000000;\n",
       "        }    #T_4778d056_8821_11eb_b9d7_98fa9b37604crow8_col4 {\n",
       "            background-color:  #b5c4df;\n",
       "            color:  #000000;\n",
       "        }    #T_4778d056_8821_11eb_b9d7_98fa9b37604crow8_col5 {\n",
       "            background-color:  #bfc9e1;\n",
       "            color:  #000000;\n",
       "        }    #T_4778d056_8821_11eb_b9d7_98fa9b37604crow8_col6 {\n",
       "            background-color:  #e7e3f0;\n",
       "            color:  #000000;\n",
       "        }    #T_4778d056_8821_11eb_b9d7_98fa9b37604crow8_col7 {\n",
       "            background-color:  #c0c9e2;\n",
       "            color:  #000000;\n",
       "        }    #T_4778d056_8821_11eb_b9d7_98fa9b37604crow8_col8 {\n",
       "            background-color:  #023858;\n",
       "            color:  #f1f1f1;\n",
       "        }</style><table id=\"T_4778d056_8821_11eb_b9d7_98fa9b37604c\" ><thead>    <tr>        <th class=\"blank level0\" ></th>        <th class=\"col_heading level0 col0\" >danceability</th>        <th class=\"col_heading level0 col1\" >energy</th>        <th class=\"col_heading level0 col2\" >loudness</th>        <th class=\"col_heading level0 col3\" >speechness</th>        <th class=\"col_heading level0 col4\" >acousticness</th>        <th class=\"col_heading level0 col5\" >instrumentalness</th>        <th class=\"col_heading level0 col6\" >liveness</th>        <th class=\"col_heading level0 col7\" >valence</th>        <th class=\"col_heading level0 col8\" >tempo</th>    </tr></thead><tbody>\n",
       "                <tr>\n",
       "                        <th id=\"T_4778d056_8821_11eb_b9d7_98fa9b37604clevel0_row0\" class=\"row_heading level0 row0\" >danceability</th>\n",
       "                        <td id=\"T_4778d056_8821_11eb_b9d7_98fa9b37604crow0_col0\" class=\"data row0 col0\" >1.000000</td>\n",
       "                        <td id=\"T_4778d056_8821_11eb_b9d7_98fa9b37604crow0_col1\" class=\"data row0 col1\" >0.146849</td>\n",
       "                        <td id=\"T_4778d056_8821_11eb_b9d7_98fa9b37604crow0_col2\" class=\"data row0 col2\" >0.286529</td>\n",
       "                        <td id=\"T_4778d056_8821_11eb_b9d7_98fa9b37604crow0_col3\" class=\"data row0 col3\" >0.230233</td>\n",
       "                        <td id=\"T_4778d056_8821_11eb_b9d7_98fa9b37604crow0_col4\" class=\"data row0 col4\" >-0.222778</td>\n",
       "                        <td id=\"T_4778d056_8821_11eb_b9d7_98fa9b37604crow0_col5\" class=\"data row0 col5\" >-0.241231</td>\n",
       "                        <td id=\"T_4778d056_8821_11eb_b9d7_98fa9b37604crow0_col6\" class=\"data row0 col6\" >-0.076341</td>\n",
       "                        <td id=\"T_4778d056_8821_11eb_b9d7_98fa9b37604crow0_col7\" class=\"data row0 col7\" >0.467993</td>\n",
       "                        <td id=\"T_4778d056_8821_11eb_b9d7_98fa9b37604crow0_col8\" class=\"data row0 col8\" >-0.093493</td>\n",
       "            </tr>\n",
       "            <tr>\n",
       "                        <th id=\"T_4778d056_8821_11eb_b9d7_98fa9b37604clevel0_row1\" class=\"row_heading level0 row1\" >energy</th>\n",
       "                        <td id=\"T_4778d056_8821_11eb_b9d7_98fa9b37604crow1_col0\" class=\"data row1 col0\" >0.146849</td>\n",
       "                        <td id=\"T_4778d056_8821_11eb_b9d7_98fa9b37604crow1_col1\" class=\"data row1 col1\" >1.000000</td>\n",
       "                        <td id=\"T_4778d056_8821_11eb_b9d7_98fa9b37604crow1_col2\" class=\"data row1 col2\" >0.811351</td>\n",
       "                        <td id=\"T_4778d056_8821_11eb_b9d7_98fa9b37604crow1_col3\" class=\"data row1 col3\" >0.131618</td>\n",
       "                        <td id=\"T_4778d056_8821_11eb_b9d7_98fa9b37604crow1_col4\" class=\"data row1 col4\" >-0.770930</td>\n",
       "                        <td id=\"T_4778d056_8821_11eb_b9d7_98fa9b37604crow1_col5\" class=\"data row1 col5\" >-0.399943</td>\n",
       "                        <td id=\"T_4778d056_8821_11eb_b9d7_98fa9b37604crow1_col6\" class=\"data row1 col6\" >0.205253</td>\n",
       "                        <td id=\"T_4778d056_8821_11eb_b9d7_98fa9b37604crow1_col7\" class=\"data row1 col7\" >0.369068</td>\n",
       "                        <td id=\"T_4778d056_8821_11eb_b9d7_98fa9b37604crow1_col8\" class=\"data row1 col8\" >0.223651</td>\n",
       "            </tr>\n",
       "            <tr>\n",
       "                        <th id=\"T_4778d056_8821_11eb_b9d7_98fa9b37604clevel0_row2\" class=\"row_heading level0 row2\" >loudness</th>\n",
       "                        <td id=\"T_4778d056_8821_11eb_b9d7_98fa9b37604crow2_col0\" class=\"data row2 col0\" >0.286529</td>\n",
       "                        <td id=\"T_4778d056_8821_11eb_b9d7_98fa9b37604crow2_col1\" class=\"data row2 col1\" >0.811351</td>\n",
       "                        <td id=\"T_4778d056_8821_11eb_b9d7_98fa9b37604crow2_col2\" class=\"data row2 col2\" >1.000000</td>\n",
       "                        <td id=\"T_4778d056_8821_11eb_b9d7_98fa9b37604crow2_col3\" class=\"data row2 col3\" >0.141251</td>\n",
       "                        <td id=\"T_4778d056_8821_11eb_b9d7_98fa9b37604crow2_col4\" class=\"data row2 col4\" >-0.669851</td>\n",
       "                        <td id=\"T_4778d056_8821_11eb_b9d7_98fa9b37604crow2_col5\" class=\"data row2 col5\" >-0.572199</td>\n",
       "                        <td id=\"T_4778d056_8821_11eb_b9d7_98fa9b37604crow2_col6\" class=\"data row2 col6\" >0.145716</td>\n",
       "                        <td id=\"T_4778d056_8821_11eb_b9d7_98fa9b37604crow2_col7\" class=\"data row2 col7\" >0.344526</td>\n",
       "                        <td id=\"T_4778d056_8821_11eb_b9d7_98fa9b37604crow2_col8\" class=\"data row2 col8\" >0.186982</td>\n",
       "            </tr>\n",
       "            <tr>\n",
       "                        <th id=\"T_4778d056_8821_11eb_b9d7_98fa9b37604clevel0_row3\" class=\"row_heading level0 row3\" >speechness</th>\n",
       "                        <td id=\"T_4778d056_8821_11eb_b9d7_98fa9b37604crow3_col0\" class=\"data row3 col0\" >0.230233</td>\n",
       "                        <td id=\"T_4778d056_8821_11eb_b9d7_98fa9b37604crow3_col1\" class=\"data row3 col1\" >0.131618</td>\n",
       "                        <td id=\"T_4778d056_8821_11eb_b9d7_98fa9b37604crow3_col2\" class=\"data row3 col2\" >0.141251</td>\n",
       "                        <td id=\"T_4778d056_8821_11eb_b9d7_98fa9b37604crow3_col3\" class=\"data row3 col3\" >1.000000</td>\n",
       "                        <td id=\"T_4778d056_8821_11eb_b9d7_98fa9b37604crow3_col4\" class=\"data row3 col4\" >-0.123895</td>\n",
       "                        <td id=\"T_4778d056_8821_11eb_b9d7_98fa9b37604crow3_col5\" class=\"data row3 col5\" >-0.170017</td>\n",
       "                        <td id=\"T_4778d056_8821_11eb_b9d7_98fa9b37604crow3_col6\" class=\"data row3 col6\" >0.081364</td>\n",
       "                        <td id=\"T_4778d056_8821_11eb_b9d7_98fa9b37604crow3_col7\" class=\"data row3 col7\" >0.097250</td>\n",
       "                        <td id=\"T_4778d056_8821_11eb_b9d7_98fa9b37604crow3_col8\" class=\"data row3 col8\" >0.059980</td>\n",
       "            </tr>\n",
       "            <tr>\n",
       "                        <th id=\"T_4778d056_8821_11eb_b9d7_98fa9b37604clevel0_row4\" class=\"row_heading level0 row4\" >acousticness</th>\n",
       "                        <td id=\"T_4778d056_8821_11eb_b9d7_98fa9b37604crow4_col0\" class=\"data row4 col0\" >-0.222778</td>\n",
       "                        <td id=\"T_4778d056_8821_11eb_b9d7_98fa9b37604crow4_col1\" class=\"data row4 col1\" >-0.770930</td>\n",
       "                        <td id=\"T_4778d056_8821_11eb_b9d7_98fa9b37604crow4_col2\" class=\"data row4 col2\" >-0.669851</td>\n",
       "                        <td id=\"T_4778d056_8821_11eb_b9d7_98fa9b37604crow4_col3\" class=\"data row4 col3\" >-0.123895</td>\n",
       "                        <td id=\"T_4778d056_8821_11eb_b9d7_98fa9b37604crow4_col4\" class=\"data row4 col4\" >1.000000</td>\n",
       "                        <td id=\"T_4778d056_8821_11eb_b9d7_98fa9b37604crow4_col5\" class=\"data row4 col5\" >0.378641</td>\n",
       "                        <td id=\"T_4778d056_8821_11eb_b9d7_98fa9b37604crow4_col6\" class=\"data row4 col6\" >-0.127381</td>\n",
       "                        <td id=\"T_4778d056_8821_11eb_b9d7_98fa9b37604crow4_col7\" class=\"data row4 col7\" >-0.271613</td>\n",
       "                        <td id=\"T_4778d056_8821_11eb_b9d7_98fa9b37604crow4_col8\" class=\"data row4 col8\" >-0.188573</td>\n",
       "            </tr>\n",
       "            <tr>\n",
       "                        <th id=\"T_4778d056_8821_11eb_b9d7_98fa9b37604clevel0_row5\" class=\"row_heading level0 row5\" >instrumentalness</th>\n",
       "                        <td id=\"T_4778d056_8821_11eb_b9d7_98fa9b37604crow5_col0\" class=\"data row5 col0\" >-0.241231</td>\n",
       "                        <td id=\"T_4778d056_8821_11eb_b9d7_98fa9b37604crow5_col1\" class=\"data row5 col1\" >-0.399943</td>\n",
       "                        <td id=\"T_4778d056_8821_11eb_b9d7_98fa9b37604crow5_col2\" class=\"data row5 col2\" >-0.572199</td>\n",
       "                        <td id=\"T_4778d056_8821_11eb_b9d7_98fa9b37604crow5_col3\" class=\"data row5 col3\" >-0.170017</td>\n",
       "                        <td id=\"T_4778d056_8821_11eb_b9d7_98fa9b37604crow5_col4\" class=\"data row5 col4\" >0.378641</td>\n",
       "                        <td id=\"T_4778d056_8821_11eb_b9d7_98fa9b37604crow5_col5\" class=\"data row5 col5\" >1.000000</td>\n",
       "                        <td id=\"T_4778d056_8821_11eb_b9d7_98fa9b37604crow5_col6\" class=\"data row5 col6\" >-0.097986</td>\n",
       "                        <td id=\"T_4778d056_8821_11eb_b9d7_98fa9b37604crow5_col7\" class=\"data row5 col7\" >-0.304595</td>\n",
       "                        <td id=\"T_4778d056_8821_11eb_b9d7_98fa9b37604crow5_col8\" class=\"data row5 col8\" >-0.098052</td>\n",
       "            </tr>\n",
       "            <tr>\n",
       "                        <th id=\"T_4778d056_8821_11eb_b9d7_98fa9b37604clevel0_row6\" class=\"row_heading level0 row6\" >liveness</th>\n",
       "                        <td id=\"T_4778d056_8821_11eb_b9d7_98fa9b37604crow6_col0\" class=\"data row6 col0\" >-0.076341</td>\n",
       "                        <td id=\"T_4778d056_8821_11eb_b9d7_98fa9b37604crow6_col1\" class=\"data row6 col1\" >0.205253</td>\n",
       "                        <td id=\"T_4778d056_8821_11eb_b9d7_98fa9b37604crow6_col2\" class=\"data row6 col2\" >0.145716</td>\n",
       "                        <td id=\"T_4778d056_8821_11eb_b9d7_98fa9b37604crow6_col3\" class=\"data row6 col3\" >0.081364</td>\n",
       "                        <td id=\"T_4778d056_8821_11eb_b9d7_98fa9b37604crow6_col4\" class=\"data row6 col4\" >-0.127381</td>\n",
       "                        <td id=\"T_4778d056_8821_11eb_b9d7_98fa9b37604crow6_col5\" class=\"data row6 col5\" >-0.097986</td>\n",
       "                        <td id=\"T_4778d056_8821_11eb_b9d7_98fa9b37604crow6_col6\" class=\"data row6 col6\" >1.000000</td>\n",
       "                        <td id=\"T_4778d056_8821_11eb_b9d7_98fa9b37604crow6_col7\" class=\"data row6 col7\" >0.049560</td>\n",
       "                        <td id=\"T_4778d056_8821_11eb_b9d7_98fa9b37604crow6_col8\" class=\"data row6 col8\" >0.040220</td>\n",
       "            </tr>\n",
       "            <tr>\n",
       "                        <th id=\"T_4778d056_8821_11eb_b9d7_98fa9b37604clevel0_row7\" class=\"row_heading level0 row7\" >valence</th>\n",
       "                        <td id=\"T_4778d056_8821_11eb_b9d7_98fa9b37604crow7_col0\" class=\"data row7 col0\" >0.467993</td>\n",
       "                        <td id=\"T_4778d056_8821_11eb_b9d7_98fa9b37604crow7_col1\" class=\"data row7 col1\" >0.369068</td>\n",
       "                        <td id=\"T_4778d056_8821_11eb_b9d7_98fa9b37604crow7_col2\" class=\"data row7 col2\" >0.344526</td>\n",
       "                        <td id=\"T_4778d056_8821_11eb_b9d7_98fa9b37604crow7_col3\" class=\"data row7 col3\" >0.097250</td>\n",
       "                        <td id=\"T_4778d056_8821_11eb_b9d7_98fa9b37604crow7_col4\" class=\"data row7 col4\" >-0.271613</td>\n",
       "                        <td id=\"T_4778d056_8821_11eb_b9d7_98fa9b37604crow7_col5\" class=\"data row7 col5\" >-0.304595</td>\n",
       "                        <td id=\"T_4778d056_8821_11eb_b9d7_98fa9b37604crow7_col6\" class=\"data row7 col6\" >0.049560</td>\n",
       "                        <td id=\"T_4778d056_8821_11eb_b9d7_98fa9b37604crow7_col7\" class=\"data row7 col7\" >1.000000</td>\n",
       "                        <td id=\"T_4778d056_8821_11eb_b9d7_98fa9b37604crow7_col8\" class=\"data row7 col8\" >0.087599</td>\n",
       "            </tr>\n",
       "            <tr>\n",
       "                        <th id=\"T_4778d056_8821_11eb_b9d7_98fa9b37604clevel0_row8\" class=\"row_heading level0 row8\" >tempo</th>\n",
       "                        <td id=\"T_4778d056_8821_11eb_b9d7_98fa9b37604crow8_col0\" class=\"data row8 col0\" >-0.093493</td>\n",
       "                        <td id=\"T_4778d056_8821_11eb_b9d7_98fa9b37604crow8_col1\" class=\"data row8 col1\" >0.223651</td>\n",
       "                        <td id=\"T_4778d056_8821_11eb_b9d7_98fa9b37604crow8_col2\" class=\"data row8 col2\" >0.186982</td>\n",
       "                        <td id=\"T_4778d056_8821_11eb_b9d7_98fa9b37604crow8_col3\" class=\"data row8 col3\" >0.059980</td>\n",
       "                        <td id=\"T_4778d056_8821_11eb_b9d7_98fa9b37604crow8_col4\" class=\"data row8 col4\" >-0.188573</td>\n",
       "                        <td id=\"T_4778d056_8821_11eb_b9d7_98fa9b37604crow8_col5\" class=\"data row8 col5\" >-0.098052</td>\n",
       "                        <td id=\"T_4778d056_8821_11eb_b9d7_98fa9b37604crow8_col6\" class=\"data row8 col6\" >0.040220</td>\n",
       "                        <td id=\"T_4778d056_8821_11eb_b9d7_98fa9b37604crow8_col7\" class=\"data row8 col7\" >0.087599</td>\n",
       "                        <td id=\"T_4778d056_8821_11eb_b9d7_98fa9b37604crow8_col8\" class=\"data row8 col8\" >1.000000</td>\n",
       "            </tr>\n",
       "    </tbody></table>"
      ],
      "text/plain": [
       "<pandas.io.formats.style.Styler at 0x7f489625fa30>"
      ]
     },
     "execution_count": 241,
     "metadata": {},
     "output_type": "execute_result"
    }
   ],
   "source": [
    "# Create a correlation matrix\n",
    "corr_metrics = spis.corr()\n",
    "corr_metrics.style.background_gradient()"
   ]
  },
  {
   "cell_type": "code",
   "execution_count": 242,
   "metadata": {},
   "outputs": [
    {
     "data": {
      "image/png": "[encoded data removed]",
      "text/plain": [
       "<Figure size 1008x504 with 1 Axes>"
      ]
     },
     "metadata": {
      "needs_background": "light"
     },
     "output_type": "display_data"
    }
   ],
   "source": [
    "cols = spis.columns\n",
    "# plot\n",
    "plt.figure(figsize=(14,7))\n",
    "plt.bar(cols, model.feature_importances_)\n",
    "plt.show()"
   ]
  },
  {
   "cell_type": "markdown",
   "metadata": {},
   "source": [
    "#### 2D Convolutional Neural Network"
   ]
  },
  {
   "cell_type": "code",
   "execution_count": 243,
   "metadata": {},
   "outputs": [],
   "source": [
    "# https://www.datacamp.com/community/tutorials/convolutional-neural-networks-python"
   ]
  },
  {
   "cell_type": "markdown",
   "metadata": {},
   "source": [
    "##### Further Processing & Data Preparation"
   ]
  },
  {
   "cell_type": "code",
   "execution_count": 244,
   "metadata": {},
   "outputs": [],
   "source": [
    "train_X = X_train.reshape(-1, 3, 3, 1)\n",
    "test_X = X_test.reshape(-1, 3, 3, 1)\n",
    "train_Y = y_train\n",
    "test_Y = y_test"
   ]
  },
  {
   "cell_type": "code",
   "execution_count": 245,
   "metadata": {},
   "outputs": [],
   "source": [
    "train_X = train_X.astype('float32')\n",
    "test_X = test_X.astype('float32')\n",
    "train_X = train_X / 255.\n",
    "test_X = test_X / 255."
   ]
  },
  {
   "cell_type": "code",
   "execution_count": 246,
   "metadata": {},
   "outputs": [
    {
     "name": "stdout",
     "output_type": "stream",
     "text": [
      "Original label: 12\n",
      "After conversion to one-hot: [0. 0. 0. 0. 0. 0. 0. 0. 0. 0. 0. 0. 1. 0. 0. 0. 0. 0. 0.]\n"
     ]
    }
   ],
   "source": [
    "# Change the labels from categorical to one-hot encoding\n",
    "train_Y_one_hot = to_categorical(train_Y)\n",
    "test_Y_one_hot = to_categorical(test_Y)\n",
    "\n",
    "# Display the change for category label using one-hot encoding\n",
    "print('Original label:', train_Y[0])\n",
    "print('After conversion to one-hot:', train_Y_one_hot[0])"
   ]
  },
  {
   "cell_type": "code",
   "execution_count": 247,
   "metadata": {},
   "outputs": [],
   "source": [
    "train_X,valid_X,train_label,valid_label = train_test_split(train_X, train_Y_one_hot, test_size=0.2, random_state=13)"
   ]
  },
  {
   "cell_type": "code",
   "execution_count": 248,
   "metadata": {},
   "outputs": [],
   "source": [
    "bs = 8\n",
    "eps = 60\n",
    "nclasses = len(np.unique(lb))"
   ]
  },
  {
   "cell_type": "markdown",
   "metadata": {},
   "source": [
    "##### The Main CNN"
   ]
  },
  {
   "cell_type": "code",
   "execution_count": 249,
   "metadata": {},
   "outputs": [],
   "source": [
    "fmodel = Sequential()\n",
    "# conv1d further experimentation in future work\n",
    "fmodel.add(Conv2D(32, kernel_size=(3, 3),activation='linear',padding='same',input_shape=(3,3,1)))\n",
    "fmodel.add(LeakyReLU(alpha=0.1))\n",
    "fmodel.add(MaxPooling2D((2, 2),padding='same'))\n",
    "fmodel.add(Dropout(0.25))\n",
    "fmodel.add(Conv2D(64, (3, 3), activation='linear',padding='same'))\n",
    "fmodel.add(LeakyReLU(alpha=0.1))\n",
    "fmodel.add(MaxPooling2D(pool_size=(2, 2),padding='same'))\n",
    "fmodel.add(Dropout(0.25))\n",
    "fmodel.add(Conv2D(128, (3, 3), activation='linear',padding='same'))\n",
    "fmodel.add(LeakyReLU(alpha=0.1))                  \n",
    "fmodel.add(MaxPooling2D(pool_size=(2, 2),padding='same'))\n",
    "fmodel.add(Dropout(0.3))\n",
    "fmodel.add(Flatten())\n",
    "fmodel.add(Dense(128, activation='linear'))\n",
    "fmodel.add(LeakyReLU(alpha=0.1))           \n",
    "fmodel.add(Dropout(0.35))\n",
    "fmodel.add(Dense(nclasses, activation='softmax'))"
   ]
  },
  {
   "cell_type": "code",
   "execution_count": 250,
   "metadata": {},
   "outputs": [],
   "source": [
    "fmodel.compile(loss=keras.losses.categorical_crossentropy, optimizer=keras.optimizers.Adam(),metrics=['accuracy'])"
   ]
  },
  {
   "cell_type": "code",
   "execution_count": 251,
   "metadata": {},
   "outputs": [],
   "source": [
    "#fmodel.summary()"
   ]
  },
  {
   "cell_type": "markdown",
   "metadata": {},
   "source": [
    "##### Fit, Train & Evaluate"
   ]
  },
  {
   "cell_type": "code",
   "execution_count": 252,
   "metadata": {
    "scrolled": true
   },
   "outputs": [
    {
     "name": "stdout",
     "output_type": "stream",
     "text": [
      "Epoch 1/60\n",
      "6745/6745 [==============================] - 10s 2ms/step - loss: 2.6288 - accuracy: 0.1529 - val_loss: 2.3699 - val_accuracy: 0.2137\n",
      "Epoch 2/60\n",
      "6745/6745 [==============================] - 10s 1ms/step - loss: 2.3810 - accuracy: 0.2272 - val_loss: 2.2843 - val_accuracy: 0.2495\n",
      "Epoch 3/60\n",
      "6745/6745 [==============================] - 10s 1ms/step - loss: 2.3309 - accuracy: 0.2444 - val_loss: 2.2615 - val_accuracy: 0.2541\n",
      "Epoch 4/60\n",
      "6745/6745 [==============================] - 10s 1ms/step - loss: 2.3105 - accuracy: 0.2511 - val_loss: 2.2474 - val_accuracy: 0.2578\n",
      "Epoch 5/60\n",
      "6745/6745 [==============================] - 10s 1ms/step - loss: 2.2958 - accuracy: 0.2550 - val_loss: 2.2327 - val_accuracy: 0.2630\n",
      "Epoch 6/60\n",
      "6745/6745 [==============================] - 10s 2ms/step - loss: 2.2849 - accuracy: 0.2595 - val_loss: 2.2460 - val_accuracy: 0.2587\n",
      "Epoch 7/60\n",
      "6745/6745 [==============================] - 10s 2ms/step - loss: 2.2768 - accuracy: 0.2622 - val_loss: 2.2225 - val_accuracy: 0.2653\n",
      "Epoch 8/60\n",
      "6745/6745 [==============================] - 10s 1ms/step - loss: 2.2692 - accuracy: 0.2656 - val_loss: 2.2198 - val_accuracy: 0.2646\n",
      "Epoch 9/60\n",
      "6745/6745 [==============================] - 10s 1ms/step - loss: 2.2652 - accuracy: 0.2638 - val_loss: 2.1982 - val_accuracy: 0.2782\n",
      "Epoch 10/60\n",
      "6745/6745 [==============================] - 10s 1ms/step - loss: 2.2575 - accuracy: 0.2676 - val_loss: 2.2225 - val_accuracy: 0.2667\n",
      "Epoch 11/60\n",
      "6745/6745 [==============================] - 10s 1ms/step - loss: 2.2533 - accuracy: 0.2695 - val_loss: 2.1979 - val_accuracy: 0.2775\n",
      "Epoch 12/60\n",
      "6745/6745 [==============================] - 10s 1ms/step - loss: 2.2480 - accuracy: 0.2715 - val_loss: 2.1820 - val_accuracy: 0.2825\n",
      "Epoch 13/60\n",
      "6745/6745 [==============================] - 10s 1ms/step - loss: 2.2454 - accuracy: 0.2716 - val_loss: 2.1795 - val_accuracy: 0.2834\n",
      "Epoch 14/60\n",
      "6745/6745 [==============================] - 10s 2ms/step - loss: 2.2461 - accuracy: 0.2712 - val_loss: 2.1747 - val_accuracy: 0.2866\n",
      "Epoch 15/60\n",
      "6745/6745 [==============================] - 10s 2ms/step - loss: 2.2419 - accuracy: 0.2727 - val_loss: 2.1786 - val_accuracy: 0.2846\n",
      "Epoch 16/60\n",
      "6745/6745 [==============================] - 10s 2ms/step - loss: 2.2397 - accuracy: 0.2740 - val_loss: 2.1653 - val_accuracy: 0.2873\n",
      "Epoch 17/60\n",
      "6745/6745 [==============================] - 10s 2ms/step - loss: 2.2343 - accuracy: 0.2758 - val_loss: 2.1620 - val_accuracy: 0.2873\n",
      "Epoch 18/60\n",
      "6745/6745 [==============================] - 10s 2ms/step - loss: 2.2334 - accuracy: 0.2760 - val_loss: 2.1812 - val_accuracy: 0.2857\n",
      "Epoch 19/60\n",
      "6745/6745 [==============================] - 10s 1ms/step - loss: 2.2294 - accuracy: 0.2756 - val_loss: 2.1679 - val_accuracy: 0.2873\n",
      "Epoch 20/60\n",
      "6745/6745 [==============================] - 10s 1ms/step - loss: 2.2299 - accuracy: 0.2774 - val_loss: 2.1711 - val_accuracy: 0.2835\n",
      "Epoch 21/60\n",
      "6745/6745 [==============================] - 10s 2ms/step - loss: 2.2268 - accuracy: 0.2787 - val_loss: 2.1594 - val_accuracy: 0.2907\n",
      "Epoch 22/60\n",
      "6745/6745 [==============================] - 10s 1ms/step - loss: 2.2225 - accuracy: 0.2798 - val_loss: 2.1744 - val_accuracy: 0.2821\n",
      "Epoch 23/60\n",
      "6745/6745 [==============================] - 10s 1ms/step - loss: 2.2209 - accuracy: 0.2774 - val_loss: 2.1553 - val_accuracy: 0.2870\n",
      "Epoch 24/60\n",
      "6745/6745 [==============================] - 10s 2ms/step - loss: 2.2204 - accuracy: 0.2831 - val_loss: 2.1667 - val_accuracy: 0.2856\n",
      "Epoch 25/60\n",
      "6745/6745 [==============================] - 10s 2ms/step - loss: 2.2204 - accuracy: 0.2819 - val_loss: 2.1527 - val_accuracy: 0.2919\n",
      "Epoch 26/60\n",
      "6745/6745 [==============================] - 10s 1ms/step - loss: 2.2199 - accuracy: 0.2794 - val_loss: 2.1518 - val_accuracy: 0.2900\n",
      "Epoch 27/60\n",
      "6745/6745 [==============================] - 10s 1ms/step - loss: 2.2183 - accuracy: 0.2837 - val_loss: 2.1532 - val_accuracy: 0.2891\n",
      "Epoch 28/60\n",
      "6745/6745 [==============================] - 10s 2ms/step - loss: 2.2173 - accuracy: 0.2810 - val_loss: 2.1693 - val_accuracy: 0.2856\n",
      "Epoch 29/60\n",
      "6745/6745 [==============================] - 10s 1ms/step - loss: 2.2133 - accuracy: 0.2799 - val_loss: 2.1485 - val_accuracy: 0.2925\n",
      "Epoch 30/60\n",
      "6745/6745 [==============================] - 10s 2ms/step - loss: 2.2118 - accuracy: 0.2848 - val_loss: 2.1674 - val_accuracy: 0.2893\n",
      "Epoch 31/60\n",
      "6745/6745 [==============================] - 10s 2ms/step - loss: 2.2134 - accuracy: 0.2831 - val_loss: 2.1528 - val_accuracy: 0.2925\n",
      "Epoch 32/60\n",
      "6745/6745 [==============================] - 10s 1ms/step - loss: 2.2160 - accuracy: 0.2848 - val_loss: 2.1407 - val_accuracy: 0.2940\n",
      "Epoch 33/60\n",
      "6745/6745 [==============================] - 10s 2ms/step - loss: 2.2110 - accuracy: 0.2838 - val_loss: 2.1483 - val_accuracy: 0.2938\n",
      "Epoch 34/60\n",
      "6745/6745 [==============================] - 10s 2ms/step - loss: 2.2123 - accuracy: 0.2814 - val_loss: 2.1467 - val_accuracy: 0.2942\n",
      "Epoch 35/60\n",
      "6745/6745 [==============================] - 10s 1ms/step - loss: 2.2080 - accuracy: 0.2827 - val_loss: 2.1529 - val_accuracy: 0.2939\n",
      "Epoch 36/60\n",
      "6745/6745 [==============================] - 10s 1ms/step - loss: 2.2108 - accuracy: 0.2826 - val_loss: 2.1447 - val_accuracy: 0.2924\n",
      "Epoch 37/60\n",
      "6745/6745 [==============================] - 10s 2ms/step - loss: 2.2110 - accuracy: 0.2851 - val_loss: 2.1448 - val_accuracy: 0.2943\n",
      "Epoch 38/60\n",
      "6745/6745 [==============================] - 10s 1ms/step - loss: 2.2083 - accuracy: 0.2839 - val_loss: 2.1523 - val_accuracy: 0.2966\n",
      "Epoch 39/60\n",
      "6745/6745 [==============================] - 10s 1ms/step - loss: 2.2060 - accuracy: 0.2863 - val_loss: 2.1482 - val_accuracy: 0.2910\n",
      "Epoch 40/60\n",
      "6745/6745 [==============================] - 10s 1ms/step - loss: 2.2088 - accuracy: 0.2836 - val_loss: 2.1415 - val_accuracy: 0.2887\n",
      "Epoch 41/60\n",
      "6745/6745 [==============================] - 10s 2ms/step - loss: 2.2073 - accuracy: 0.2850 - val_loss: 2.1511 - val_accuracy: 0.2993\n",
      "Epoch 42/60\n",
      "6745/6745 [==============================] - 10s 1ms/step - loss: 2.2050 - accuracy: 0.2840 - val_loss: 2.1458 - val_accuracy: 0.2965\n",
      "Epoch 43/60\n",
      "6745/6745 [==============================] - 10s 2ms/step - loss: 2.2069 - accuracy: 0.2876 - val_loss: 2.1362 - val_accuracy: 0.2922\n",
      "Epoch 44/60\n",
      "6745/6745 [==============================] - 10s 2ms/step - loss: 2.2043 - accuracy: 0.2851 - val_loss: 2.1386 - val_accuracy: 0.2955\n",
      "Epoch 45/60\n",
      "6745/6745 [==============================] - 10s 1ms/step - loss: 2.2020 - accuracy: 0.2884 - val_loss: 2.1416 - val_accuracy: 0.2954\n",
      "Epoch 46/60\n",
      "6745/6745 [==============================] - 10s 1ms/step - loss: 2.2023 - accuracy: 0.2868 - val_loss: 2.1441 - val_accuracy: 0.2930\n",
      "Epoch 47/60\n",
      "6745/6745 [==============================] - 10s 1ms/step - loss: 2.2027 - accuracy: 0.2878 - val_loss: 2.1515 - val_accuracy: 0.2920\n",
      "Epoch 48/60\n",
      "6745/6745 [==============================] - 10s 1ms/step - loss: 2.2018 - accuracy: 0.2870 - val_loss: 2.1356 - val_accuracy: 0.2992\n",
      "Epoch 49/60\n",
      "6745/6745 [==============================] - 10s 2ms/step - loss: 2.2014 - accuracy: 0.2868 - val_loss: 2.1415 - val_accuracy: 0.2939\n",
      "Epoch 50/60\n",
      "6745/6745 [==============================] - 10s 2ms/step - loss: 2.2014 - accuracy: 0.2878 - val_loss: 2.1393 - val_accuracy: 0.2930\n",
      "Epoch 51/60\n",
      "6745/6745 [==============================] - 10s 2ms/step - loss: 2.2031 - accuracy: 0.2878 - val_loss: 2.1409 - val_accuracy: 0.2928\n",
      "Epoch 52/60\n",
      "6745/6745 [==============================] - 10s 2ms/step - loss: 2.1989 - accuracy: 0.2850 - val_loss: 2.1362 - val_accuracy: 0.2955\n",
      "Epoch 53/60\n",
      "6745/6745 [==============================] - 10s 1ms/step - loss: 2.1999 - accuracy: 0.2858 - val_loss: 2.1341 - val_accuracy: 0.2999\n",
      "Epoch 54/60\n",
      "6745/6745 [==============================] - 10s 1ms/step - loss: 2.1983 - accuracy: 0.2855 - val_loss: 2.1498 - val_accuracy: 0.2918\n",
      "Epoch 55/60\n",
      "6745/6745 [==============================] - 10s 1ms/step - loss: 2.1975 - accuracy: 0.2882 - val_loss: 2.1349 - val_accuracy: 0.2952\n",
      "Epoch 56/60\n",
      "6745/6745 [==============================] - 10s 2ms/step - loss: 2.1965 - accuracy: 0.2890 - val_loss: 2.1388 - val_accuracy: 0.2938\n",
      "Epoch 57/60\n"
     ]
    },
    {
     "name": "stdout",
     "output_type": "stream",
     "text": [
      "6745/6745 [==============================] - 10s 2ms/step - loss: 2.1993 - accuracy: 0.2894 - val_loss: 2.1482 - val_accuracy: 0.2919\n",
      "Epoch 58/60\n",
      "6745/6745 [==============================] - 10s 1ms/step - loss: 2.1944 - accuracy: 0.2883 - val_loss: 2.1372 - val_accuracy: 0.2999\n",
      "Epoch 59/60\n",
      "6745/6745 [==============================] - 10s 1ms/step - loss: 2.1983 - accuracy: 0.2853 - val_loss: 2.1389 - val_accuracy: 0.2937\n",
      "Epoch 60/60\n",
      "6745/6745 [==============================] - 10s 2ms/step - loss: 2.1949 - accuracy: 0.2874 - val_loss: 2.1425 - val_accuracy: 0.2951\n"
     ]
    }
   ],
   "source": [
    "fmodelTrain = fmodel.fit(train_X, train_label, batch_size=bs,epochs=eps,verbose=1,validation_data=(valid_X, valid_label))"
   ]
  },
  {
   "cell_type": "code",
   "execution_count": 253,
   "metadata": {
    "scrolled": true
   },
   "outputs": [
    {
     "name": "stdout",
     "output_type": "stream",
     "text": [
      "527/527 [==============================] - 0s 819us/step - loss: 2.1546 - accuracy: 0.2954\n",
      "Test loss: 2.1545581817626953\n",
      "Test accuracy: 0.29539793729782104\n"
     ]
    }
   ],
   "source": [
    "test_eval = fmodel.evaluate(test_X, test_Y_one_hot, verbose=1)\n",
    "print('Test loss:', test_eval[0])\n",
    "print('Test accuracy:', test_eval[1])"
   ]
  },
  {
   "cell_type": "code",
   "execution_count": 254,
   "metadata": {},
   "outputs": [
    {
     "name": "stdout",
     "output_type": "stream",
     "text": [
      "(16862,) (16862,)\n"
     ]
    }
   ],
   "source": [
    "predicted_classes = fmodel.predict(test_X)\n",
    "predicted_classes = np.argmax(np.round(predicted_classes),axis=1)\n",
    "print(predicted_classes.shape, test_Y.shape)"
   ]
  },
  {
   "cell_type": "code",
   "execution_count": 255,
   "metadata": {},
   "outputs": [
    {
     "name": "stdout",
     "output_type": "stream",
     "text": [
      "              precision    recall  f1-score   support\n",
      "\n",
      "     Class 0       0.06      0.97      0.11       930\n",
      "     Class 1       0.80      0.01      0.01       786\n",
      "     Class 2       0.83      0.59      0.69       851\n",
      "     Class 3       0.00      0.00      0.00       771\n",
      "     Class 4       0.00      0.00      0.00       895\n",
      "     Class 5       0.63      0.15      0.24       941\n",
      "     Class 6       0.00      0.00      0.00       977\n",
      "     Class 7       0.00      0.00      0.00       863\n",
      "     Class 8       0.00      0.00      0.00      1103\n",
      "     Class 9       0.67      0.04      0.07      1043\n",
      "    Class 10       0.00      0.00      0.00       714\n",
      "    Class 11       0.68      0.45      0.54      1010\n",
      "    Class 12       0.00      0.00      0.00       977\n",
      "    Class 13       0.83      0.03      0.05       957\n",
      "    Class 14       0.00      0.00      0.00       718\n",
      "    Class 15       0.00      0.00      0.00       764\n",
      "    Class 16       0.00      0.00      0.00       755\n",
      "    Class 17       0.00      0.00      0.00       751\n",
      "    Class 18       0.00      0.00      0.00      1056\n",
      "\n",
      "    accuracy                           0.12     16862\n",
      "   macro avg       0.24      0.12      0.09     16862\n",
      "weighted avg       0.25      0.12      0.09     16862\n",
      "\n"
     ]
    },
    {
     "name": "stderr",
     "output_type": "stream",
     "text": [
      "/home/tasossf/.local/lib/python3.8/site-packages/sklearn/metrics/_classification.py:1221: UndefinedMetricWarning: Precision and F-score are ill-defined and being set to 0.0 in labels with no predicted samples. Use `zero_division` parameter to control this behavior.\n",
      "  _warn_prf(average, modifier, msg_start, len(result))\n"
     ]
    }
   ],
   "source": [
    "from sklearn.metrics import classification_report\n",
    "target_names = [\"Class {}\".format(i) for i in range(nclasses)]\n",
    "print(classification_report(test_Y, predicted_classes, target_names=target_names))"
   ]
  },
  {
   "cell_type": "code",
   "execution_count": 256,
   "metadata": {},
   "outputs": [
    {
     "name": "stdout",
     "output_type": "stream",
     "text": [
      "['alternative' 'alternative' 'alternative' ... 'alternative' 'alternative'\n",
      " 'alternative']\n"
     ]
    }
   ],
   "source": [
    "predictions_test = label_encoder.inverse_transform(predicted_classes)\n",
    "print(predictions_test)"
   ]
  },
  {
   "cell_type": "markdown",
   "metadata": {},
   "source": [
    "#### Loading the Medium Dataset for Genre Prediction & Classification"
   ]
  },
  {
   "cell_type": "code",
   "execution_count": 269,
   "metadata": {},
   "outputs": [
    {
     "name": "stdout",
     "output_type": "stream",
     "text": [
      "3794\n",
      "3794\n",
      "3785\n"
     ]
    }
   ],
   "source": [
    "meds = pd.read_csv('generatedDatasets/spotifyDatasetMed.csv', low_memory=False)\n",
    "print(len(meds))\n",
    "meds = meds.dropna()\n",
    "print(len(meds))\n",
    "meds = meds.drop_duplicates()\n",
    "print(len(meds))\n",
    "meds = meds.drop(['trackid', 'trackname', 'artist', 'artistid', 'genres'], axis = 1)"
   ]
  },
  {
   "cell_type": "code",
   "execution_count": 270,
   "metadata": {},
   "outputs": [
    {
     "name": "stdout",
     "output_type": "stream",
     "text": [
      "{'alternative': 0, 'blues': 1, 'classical': 2, 'country': 3, 'dance': 4, 'electronic': 5, 'folk': 6, 'hip-hop': 7, 'indie': 8, 'jazz': 9, 'latin': 10, 'metal': 11, 'pop': 12, 'punk': 13, 'r&b': 14, 'rap': 15, 'reggae': 16, 'rock': 17, 'soul': 18}\n",
      "Counter({17: 200, 5: 200, 7: 200, 1: 200, 13: 200, 18: 200, 16: 200, 3: 200, 8: 200, 0: 200, 2: 199, 15: 199, 9: 199, 11: 199, 14: 199, 4: 198, 6: 198, 12: 197, 10: 197})\n",
      "3785\n"
     ]
    }
   ],
   "source": [
    "label_encoder2 = preprocessing.LabelEncoder()\n",
    "label_encoder2.fit(meds['main_genre'])\n",
    "lbs = label_encoder2.transform(meds['main_genre'])\n",
    "mapping2 = dict(zip(label_encoder2.classes_, range(len(label_encoder.classes_))))\n",
    "print(mapping2)\n",
    "ts = meds['main_genre']\n",
    "meds = meds.drop(['main_genre'], axis=1)\n",
    "print(Counter(lbs))\n",
    "print(len(lbs))"
   ]
  },
  {
   "cell_type": "code",
   "execution_count": 271,
   "metadata": {},
   "outputs": [
    {
     "name": "stdout",
     "output_type": "stream",
     "text": [
      "yes\n"
     ]
    }
   ],
   "source": [
    "# check if the two label encoder (initial and second - for testing) are the same\n",
    "if mapping == mapping2:\n",
    "    print(\"yes\")"
   ]
  },
  {
   "cell_type": "code",
   "execution_count": 272,
   "metadata": {},
   "outputs": [],
   "source": [
    "scaler = StandardScaler()\n",
    "Xmeds = scaler.fit_transform(meds)\n",
    "Xmeds = Xmeds.reshape(-1, 3, 3, 1)\n",
    "Xmeds = Xmeds.astype('float32')\n",
    "Xmeds = Xmeds / 255."
   ]
  },
  {
   "cell_type": "code",
   "execution_count": 273,
   "metadata": {},
   "outputs": [
    {
     "name": "stdout",
     "output_type": "stream",
     "text": [
      "3785\n",
      "Counter({'alternative': 3484, 'classical': 133, 'metal': 107, 'electronic': 33, 'jazz': 23, 'punk': 4, 'blues': 1})\n"
     ]
    }
   ],
   "source": [
    "preds = fmodel.predict(Xmeds)\n",
    "preds = np.argmax(np.round(preds),axis=1)\n",
    "\n",
    "finalPreds = label_encoder.inverse_transform(preds)\n",
    "print(len(finalPreds))\n",
    "print(Counter(finalPreds))"
   ]
  },
  {
   "cell_type": "code",
   "execution_count": 274,
   "metadata": {},
   "outputs": [],
   "source": [
    "# save the predictions\n",
    "with open('generatedDatasets/predictedGenresMed.txt', 'w') as f:\n",
    "    for item in finalPreds:\n",
    "        f.write(\"%s\\n\" % item)"
   ]
  },
  {
   "cell_type": "code",
   "execution_count": 275,
   "metadata": {},
   "outputs": [
    {
     "name": "stdout",
     "output_type": "stream",
     "text": [
      "About 0.095 % of the predicted values can be viewed as correct.\n"
     ]
    }
   ],
   "source": [
    "# do a partial validation, although this way is not so accurate\n",
    "cc = 0\n",
    "ev = 0\n",
    "for t in ts:\n",
    "    if t == finalPreds[cc]:\n",
    "        ev = ev + 1\n",
    "    cc = cc +1\n",
    "print(\"About\", round((ev / len(ts)), 3), \"% of the predicted values can be viewed as correct.\" )"
   ]
  },
  {
   "cell_type": "code",
   "execution_count": null,
   "metadata": {},
   "outputs": [],
   "source": []
  }
 ],
 "metadata": {
  "kernelspec": {
   "display_name": "Python 3",
   "language": "python",
   "name": "python3"
  },
  "language_info": {
   "codemirror_mode": {
    "name": "ipython",
    "version": 3
   },
   "file_extension": ".py",
   "mimetype": "text/x-python",
   "name": "python",
   "nbconvert_exporter": "python",
   "pygments_lexer": "ipython3",
   "version": "3.8.2"
  }
 },
 "nbformat": 4,
 "nbformat_minor": 4
}
